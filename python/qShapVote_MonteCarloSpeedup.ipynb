{
 "cells": [
  {
   "attachments": {},
   "cell_type": "markdown",
   "metadata": {},
   "source": [
    "## Quantum Voting Shapley Values and Monte Carlo Speedup\n",
    "In this program, we use the methods from Montanaro (2017; Quantum speedup of Monte Carlo methods) to quadratically speed up our quantum algorithm for Shapley value estimation in voting games.\n",
    "\n",
    "Additionally, the following tutorial for amplitude estimation was used as a framework: \n",
    "https://qiskit.org/ecosystem/finance/tutorials/00_amplitude_estimation.html "
   ]
  },
  {
   "attachments": {},
   "cell_type": "markdown",
   "metadata": {},
   "source": [
    "#### Importing"
   ]
  },
  {
   "cell_type": "code",
   "execution_count": 121,
   "metadata": {},
   "outputs": [],
   "source": [
    "import quantumBasicVotingGame as qvg\n",
    "from quantumShapEstimation import QuantumShapleyWrapper as qsw\n",
    "\n",
    "import numpy as np\n",
    "import matplotlib.pyplot as plt\n",
    "\n",
    "from qiskit.circuit import QuantumCircuit\n",
    "from qiskit import transpile, Aer\n",
    "from qiskit.circuit.gate import Gate\n",
    "from qiskit.circuit.library import QFT"
   ]
  },
  {
   "attachments": {},
   "cell_type": "markdown",
   "metadata": {},
   "source": [
    "#### Definitions"
   ]
  },
  {
   "cell_type": "code",
   "execution_count": 122,
   "metadata": {},
   "outputs": [
    {
     "name": "stdout",
     "output_type": "stream",
     "text": [
      "auxReg=       [0, 1]\n",
      "playerReg=    [2, 3, 4]\n",
      "countReg=     [5, 6, 7]\n",
      "utilReg=      [5]\n",
      "amplitudeReg= [8, 9, 10, 11]\n"
     ]
    }
   ],
   "source": [
    "#Debug\n",
    "debug = True\n",
    "\n",
    "#Registers\n",
    "betaApproxBits = 2\n",
    "numVoters      = 3\n",
    "numVoteBits    = 3\n",
    "amplitudeEstBits = 4\n",
    "targetPlayer   = 1\n",
    "\n",
    "currentBit = 0\n",
    "\n",
    "auxReg    = [currentBit+i for i in range(betaApproxBits)]\n",
    "currentBit += betaApproxBits\n",
    "\n",
    "playerReg = [currentBit+i for i in range(numVoters)]\n",
    "currentBit += numVoters\n",
    "\n",
    "countReg  = [currentBit+i for i in range(numVoteBits)]\n",
    "currentBit += numVoteBits\n",
    "\n",
    "#Note utility is just the largest bit of the count Reg\n",
    "utilReg   = [betaApproxBits+numVoters]\n",
    "\n",
    "amplitudeReg = [currentBit+i for i in range(amplitudeEstBits)]\n",
    "currentBit += amplitudeEstBits\n",
    "\n",
    "print(f\"{auxReg=       }\")\n",
    "print(f\"{playerReg=    }\")\n",
    "print(f\"{countReg=     }\")\n",
    "print(f\"{utilReg=      }\")\n",
    "print(f\"{amplitudeReg= }\")\n",
    "# print([bit for bit in countReg if bit != utilReg[0]])"
   ]
  },
  {
   "attachments": {},
   "cell_type": "markdown",
   "metadata": {},
   "source": [
    "#### Generate Voting Game"
   ]
  },
  {
   "cell_type": "code",
   "execution_count": 123,
   "metadata": {},
   "outputs": [
    {
     "name": "stdout",
     "output_type": "stream",
     "text": [
      "votingPowers=[3, 2, 1]\n",
      "threshold=  4\n"
     ]
    }
   ],
   "source": [
    "votingPowers = qvg.randomVotingGame(\n",
    "    numPlayers=numVoters,\n",
    "    thresholdBits=numVoteBits,\n",
    "    roughVariance=2,\n",
    ")\n",
    "\n",
    "#temp:\n",
    "votingPowers = [3,2,1]\n",
    "#:temp\n",
    "\n",
    "print(f\"{votingPowers=}\")\n",
    "print(f\"threshold=  {2**(numVoteBits-1)}\")"
   ]
  },
  {
   "attachments": {},
   "cell_type": "markdown",
   "metadata": {},
   "source": [
    "#### Helper Function"
   ]
  },
  {
   "cell_type": "code",
   "execution_count": 124,
   "metadata": {},
   "outputs": [],
   "source": [
    "def assessCircuit(circuit: QuantumCircuit, register: list[int]):\n",
    "    #Use Aer\n",
    "    sim = Aer.get_backend('aer_simulator')\n",
    "    circuit.save_statevector()\n",
    "\n",
    "    #Compile the circuit down to low-level QASM instructions\n",
    "    compiled_circuit = transpile(circuit, sim)\n",
    "\n",
    "    #Simulate circuit\n",
    "    result = sim.run(compiled_circuit).result()\n",
    "    out_state = result.get_statevector(circuit, decimals=4)\n",
    "\n",
    "    #Visualize output\n",
    "    probs = out_state.probabilities(register)\n",
    "    state = out_state.to_dict()\n",
    "\n",
    "    angles = {\n",
    "        key: np.sin(np.angle(value)/2)\n",
    "        for key, value in state.items()\n",
    "    }\n",
    "\n",
    "    print(state)\n",
    "    print(angles)\n",
    "    colors = [f\"#{int(180*angle)%256:02x}0080\" for angle in angles.values()]\n",
    "    # print(colors)\n",
    "\n",
    "    x = np.linspace(0, 1-1/len(probs), len(probs))\n",
    "    plt.bar(x, probs, align=\"edge\", width=.9/(len(probs)), color=colors)\n",
    "    plt.xticks(\n",
    "        ticks=x+.9/(2*len(probs)), \n",
    "        labels=[f\"{num:0{len(register)}b}\" for num in range(len(probs))],\n",
    "        rotation=90\n",
    "    )\n",
    "    plt.show()\n",
    "\n",
    "    print(probs)\n",
    "\n",
    "    return probs"
   ]
  },
  {
   "attachments": {},
   "cell_type": "markdown",
   "metadata": {},
   "source": [
    "## Defining $A$ and $Q$ Gates"
   ]
  },
  {
   "attachments": {},
   "cell_type": "markdown",
   "metadata": {},
   "source": [
    "The A gate represents the preparation gate which gives each coalition amplitudes which correspond to $\\gamma(n,m)$. \n",
    "\n",
    "The Q gate represents the grover operator $Q = AS_0A^{-1}S_\\psi$.\n",
    "\n",
    "Where $S_0$ is the reflection with respect to $|0>$ and $S_\\psi$ is the oracle (vote result)."
   ]
  },
  {
   "attachments": {},
   "cell_type": "markdown",
   "metadata": {},
   "source": [
    "#### $A$ and $A^{-1}$ Gates"
   ]
  },
  {
   "cell_type": "code",
   "execution_count": 125,
   "metadata": {},
   "outputs": [
    {
     "name": "stdout",
     "output_type": "stream",
     "text": [
      "     ┌───────────────────────────────────────────────────┐┌───────────────────┐\n",
      "q_0: ┤0                                                  ├┤0                  ├\n",
      "     │  State Preparation(0.38268,0.5946,0.5946,0.38268) ││                   │\n",
      "q_1: ┤1                                                  ├┤1                  ├\n",
      "     └───────────────────────────────────────────────────┘│                   │\n",
      "q_2: ─────────────────────────────────────────────────────┤2 Shap Factor Init ├\n",
      "                                                          │                   │\n",
      "q_3: ─────────────────────────────────────────────────────┤3                  ├\n",
      "                                                          │                   │\n",
      "q_4: ─────────────────────────────────────────────────────┤4                  ├\n",
      "                                                          └───────────────────┘\n"
     ]
    }
   ],
   "source": [
    "# A Gate\n",
    "ACircuit = QuantumCircuit(len(auxReg + playerReg))\n",
    "\n",
    "#Prepare auxiliary register\n",
    "qsw.initBetaApproxBits(auxReg, ACircuit)\n",
    "\n",
    "\n",
    "ACircuit.append(\n",
    "    qsw.getShapleyInitGate(\n",
    "        betaApproxBits=betaApproxBits,\n",
    "        numFactors=numVoters,\n",
    "        target=targetPlayer,\n",
    "        targetOn=False,\n",
    "    ),\n",
    "    auxReg + playerReg,\n",
    ")\n",
    "\n",
    "print(ACircuit.draw())\n",
    "\n",
    "AGate = ACircuit.to_gate()\n",
    "AGate.label = \"A\"\n",
    "\n",
    "AInvGate = AGate.inverse()\n",
    "AInvGate.label = \"A^-1\""
   ]
  },
  {
   "attachments": {},
   "cell_type": "markdown",
   "metadata": {},
   "source": [
    "#### $S_0$ Gate"
   ]
  },
  {
   "cell_type": "code",
   "execution_count": 126,
   "metadata": {},
   "outputs": [
    {
     "name": "stderr",
     "output_type": "stream",
     "text": [
      "C:\\Users\\iain\\AppData\\Local\\Temp/ipykernel_14648/2162283227.py:20: DeprecationWarning: The QuantumCircuit.__iadd__() method is being deprecated. Use the compose() (potentially with the inplace=True argument) and tensor() methods which are more flexible w.r.t circuit register compatibility.\n",
      "  tempS0Circuit += S0Circuit\n"
     ]
    },
    {
     "name": "stdout",
     "output_type": "stream",
     "text": [
      "{'00000000': (-0.3536+0j), '00000100': (0.3536+0j), '00001000': (0.3536+0j), '00001100': (0.3536+0j), '00010000': (0.3536+0j), '00010100': (0.3536+0j), '00011000': (0.3536+0j), '00011100': (0.3536+0j)}\n",
      "{'00000000': 1.0, '00000100': 0.0, '00001000': 0.0, '00001100': 0.0, '00010000': 0.0, '00010100': 0.0, '00011000': 0.0, '00011100': 0.0}\n"
     ]
    },
    {
     "data": {
      "image/png": "[encoded data removed]",
      "text/plain": [
       "<Figure size 432x288 with 1 Axes>"
      ]
     },
     "metadata": {
      "needs_background": "light"
     },
     "output_type": "display_data"
    },
    {
     "name": "stdout",
     "output_type": "stream",
     "text": [
      "[0.12503296 0.12503296 0.12503296 0.12503296 0.12503296 0.12503296\n",
      " 0.12503296 0.12503296]\n"
     ]
    },
    {
     "data": {
      "text/html": [
       "<pre style=\"word-wrap: normal;white-space: pre;background: #fff0;line-height: 1.1;font-family: &quot;Courier New&quot;,Courier,monospace\">     ┌───┐               ┌───┐\n",
       "q_0: ┤ X ├──■─────────■──┤ X ├\n",
       "     ├───┤  │         │  ├───┤\n",
       "q_1: ┤ X ├──■─────────■──┤ X ├\n",
       "     ├───┤  │         │  ├───┤\n",
       "q_2: ┤ X ├──■─────────■──┤ X ├\n",
       "     ├───┤  │         │  ├───┤\n",
       "q_3: ┤ X ├──■─────────■──┤ X ├\n",
       "     ├───┤  │         │  ├───┤\n",
       "q_4: ┤ X ├──■─────────■──┤ X ├\n",
       "     └───┘┌─┴─┐┌───┐┌─┴─┐└───┘\n",
       "q_5: ─────┤ X ├┤ Z ├┤ X ├─────\n",
       "     ┌───┐└─┬─┘└───┘└─┬─┘┌───┐\n",
       "q_6: ┤ X ├──■─────────■──┤ X ├\n",
       "     ├───┤  │         │  ├───┤\n",
       "q_7: ┤ X ├──■─────────■──┤ X ├\n",
       "     └───┘               └───┘</pre>"
      ],
      "text/plain": [
       "     ┌───┐               ┌───┐\n",
       "q_0: ┤ X ├──■─────────■──┤ X ├\n",
       "     ├───┤  │         │  ├───┤\n",
       "q_1: ┤ X ├──■─────────■──┤ X ├\n",
       "     ├───┤  │         │  ├───┤\n",
       "q_2: ┤ X ├──■─────────■──┤ X ├\n",
       "     ├───┤  │         │  ├───┤\n",
       "q_3: ┤ X ├──■─────────■──┤ X ├\n",
       "     ├───┤  │         │  ├───┤\n",
       "q_4: ┤ X ├──■─────────■──┤ X ├\n",
       "     └───┘┌─┴─┐┌───┐┌─┴─┐└───┘\n",
       "q_5: ─────┤ X ├┤ Z ├┤ X ├─────\n",
       "     ┌───┐└─┬─┘└───┘└─┬─┘┌───┐\n",
       "q_6: ┤ X ├──■─────────■──┤ X ├\n",
       "     ├───┤  │         │  ├───┤\n",
       "q_7: ┤ X ├──■─────────■──┤ X ├\n",
       "     └───┘               └───┘"
      ]
     },
     "execution_count": 126,
     "metadata": {},
     "output_type": "execute_result"
    }
   ],
   "source": [
    "#S0 Gate\n",
    "S0Circuit = QuantumCircuit(len(set(auxReg+playerReg+countReg+utilReg)))\n",
    "\n",
    "S0Circuit.x(auxReg+playerReg+[bit for bit in countReg if bit != utilReg[0]])\n",
    "S0Circuit.mcx(\n",
    "    control_qubits=auxReg+[bit for bit in countReg if bit != utilReg[0]]+playerReg,\n",
    "    target_qubit=utilReg\n",
    ")\n",
    "S0Circuit.z(utilReg)\n",
    "S0Circuit.mcx(\n",
    "    control_qubits=auxReg+[bit for bit in countReg if bit != utilReg[0]]+playerReg,\n",
    "    target_qubit=utilReg\n",
    ")\n",
    "S0Circuit.x(auxReg+playerReg+[bit for bit in countReg if bit != utilReg[0]])\n",
    "S0Gate = S0Circuit.to_gate(label=\"S_0\")\n",
    "\n",
    "if debug:\n",
    "    tempS0Circuit = QuantumCircuit(len(set(auxReg+playerReg+countReg+utilReg)))\n",
    "    tempS0Circuit.h(playerReg)\n",
    "    tempS0Circuit += S0Circuit\n",
    "    assessCircuit(tempS0Circuit, playerReg)\n",
    "\n",
    "S0Circuit.draw()"
   ]
  },
  {
   "attachments": {},
   "cell_type": "markdown",
   "metadata": {},
   "source": [
    "#### $S_\\psi$ Gate"
   ]
  },
  {
   "cell_type": "code",
   "execution_count": 127,
   "metadata": {},
   "outputs": [
    {
     "name": "stdout",
     "output_type": "stream",
     "text": [
      "                                      \n",
      "q_0: ─────■───────────────────────────\n",
      "          │                           \n",
      "q_1: ─────┼──────────■────────────────\n",
      "          │          │                \n",
      "q_2: ─────┼──────────┼──────────■─────\n",
      "     ┌────┴────┐┌────┴────┐┌────┴────┐\n",
      "q_3: ┤0        ├┤0        ├┤0        ├\n",
      "     │         ││         ││         │\n",
      "q_4: ┤1 c(1)+3 ├┤1 c(1)+2 ├┤1 c(1)+1 ├\n",
      "     │         ││         ││         │\n",
      "q_5: ┤2        ├┤2        ├┤2        ├\n",
      "     └─────────┘└─────────┘└─────────┘\n"
     ]
    },
    {
     "name": "stderr",
     "output_type": "stream",
     "text": [
      "C:\\Users\\iain\\AppData\\Local\\Temp/ipykernel_14648/1799315715.py:32: DeprecationWarning: The QuantumCircuit.__iadd__() method is being deprecated. Use the compose() (potentially with the inplace=True argument) and tensor() methods which are more flexible w.r.t circuit register compatibility.\n",
      "  tempSPsiCircuit += SPsiCircuit\n"
     ]
    },
    {
     "name": "stdout",
     "output_type": "stream",
     "text": [
      "{'00000000': (0.5+0j), '00000100': (-0.5+0j), '00010000': (0.5-0j), '00010100': (0.5-0j)}\n",
      "{'00000000': 0.0, '00000100': 1.0, '00010000': -0.0, '00010100': -0.0}\n"
     ]
    },
    {
     "data": {
      "image/png": "[encoded data removed]",
      "text/plain": [
       "<Figure size 432x288 with 1 Axes>"
      ]
     },
     "metadata": {
      "needs_background": "light"
     },
     "output_type": "display_data"
    },
    {
     "name": "stdout",
     "output_type": "stream",
     "text": [
      "[0.25 0.25 0.25 0.25]\n"
     ]
    },
    {
     "data": {
      "text/html": [
       "<pre style=\"word-wrap: normal;white-space: pre;background: #fff0;line-height: 1.1;font-family: &quot;Courier New&quot;,Courier,monospace\">                                                                               \n",
       "q_0: ──────────────────────────────────────────────────────────────────────────\n",
       "                                                                               \n",
       "q_1: ──────────────────────────────────────────────────────────────────────────\n",
       "     ┌──────────┐     ┌─────────────┐     ┌──────────┐     ┌─────────────┐     \n",
       "q_2: ┤0         ├─────┤0            ├─────┤0         ├─────┤0            ├─────\n",
       "     │          │     │             │┌───┐│          │     │             │┌───┐\n",
       "q_3: ┤1         ├─────┤1            ├┤ X ├┤1         ├─────┤1            ├┤ X ├\n",
       "     │          │     │             │└───┘│          │     │             │└───┘\n",
       "q_4: ┤2         ├─────┤2            ├─────┤2         ├─────┤2            ├─────\n",
       "     │  vOracle │┌───┐│  vOracle^-1 │     │  vOracle │┌───┐│  vOracle^-1 │     \n",
       "q_5: ┤3         ├┤ Z ├┤3            ├─────┤3         ├┤ Z ├┤3            ├─────\n",
       "     │          │└───┘│             │     │          │└───┘│             │     \n",
       "q_6: ┤4         ├─────┤4            ├─────┤4         ├─────┤4            ├─────\n",
       "     │          │     │             │     │          │     │             │     \n",
       "q_7: ┤5         ├─────┤5            ├─────┤5         ├─────┤5            ├─────\n",
       "     └──────────┘     └─────────────┘     └──────────┘     └─────────────┘     </pre>"
      ],
      "text/plain": [
       "                                                                               \n",
       "q_0: ──────────────────────────────────────────────────────────────────────────\n",
       "                                                                               \n",
       "q_1: ──────────────────────────────────────────────────────────────────────────\n",
       "     ┌──────────┐     ┌─────────────┐     ┌──────────┐     ┌─────────────┐     \n",
       "q_2: ┤0         ├─────┤0            ├─────┤0         ├─────┤0            ├─────\n",
       "     │          │     │             │┌───┐│          │     │             │┌───┐\n",
       "q_3: ┤1         ├─────┤1            ├┤ X ├┤1         ├─────┤1            ├┤ X ├\n",
       "     │          │     │             │└───┘│          │     │             │└───┘\n",
       "q_4: ┤2         ├─────┤2            ├─────┤2         ├─────┤2            ├─────\n",
       "     │  vOracle │┌───┐│  vOracle^-1 │     │  vOracle │┌───┐│  vOracle^-1 │     \n",
       "q_5: ┤3         ├┤ Z ├┤3            ├─────┤3         ├┤ Z ├┤3            ├─────\n",
       "     │          │└───┘│             │     │          │└───┘│             │     \n",
       "q_6: ┤4         ├─────┤4            ├─────┤4         ├─────┤4            ├─────\n",
       "     │          │     │             │     │          │     │             │     \n",
       "q_7: ┤5         ├─────┤5            ├─────┤5         ├─────┤5            ├─────\n",
       "     └──────────┘     └─────────────┘     └──────────┘     └─────────────┘     "
      ]
     },
     "execution_count": 127,
     "metadata": {},
     "output_type": "execute_result"
    }
   ],
   "source": [
    "#SPsi Gate\n",
    "voteOracle, _, _, _ = qvg.randomVotingGameGate(\n",
    "    thresholdBits=numVoteBits,\n",
    "    playerVal=votingPowers,\n",
    ")\n",
    "voteOracle.label = \"vOracle\"\n",
    "voteOracleInverse = voteOracle.inverse()\n",
    "voteOracleInverse.label = \"vOracle^-1\"\n",
    "\n",
    "#This is voting game specific \n",
    "def vote(circuit):\n",
    "    circuit.append(\n",
    "        voteOracle,\n",
    "        playerReg + countReg,\n",
    "    )\n",
    "    circuit.z(utilReg)\n",
    "    circuit.append(\n",
    "        voteOracleInverse,\n",
    "        playerReg + countReg,\n",
    "    )\n",
    "\n",
    "SPsiCircuit = QuantumCircuit(len(set(auxReg+playerReg+countReg+utilReg)))\n",
    "\n",
    "vote(SPsiCircuit)\n",
    "SPsiCircuit.x(playerReg[targetPlayer])\n",
    "vote(SPsiCircuit)\n",
    "SPsiCircuit.x(playerReg[targetPlayer])\n",
    "\n",
    "if debug:\n",
    "    tempSPsiCircuit = QuantumCircuit(len(set(auxReg+playerReg+countReg+utilReg)))\n",
    "    tempSPsiCircuit.h([player for player in playerReg if player != playerReg[targetPlayer]])\n",
    "    tempSPsiCircuit += SPsiCircuit\n",
    "    assessCircuit(tempSPsiCircuit, [player for player in playerReg if player != playerReg[targetPlayer]])\n",
    "\n",
    "SPsiGate = SPsiCircuit.to_gate()\n",
    "SPsiGate.label = \"S_psi\"\n",
    "\n",
    "SPsiCircuit.draw()"
   ]
  },
  {
   "attachments": {},
   "cell_type": "markdown",
   "metadata": {},
   "source": [
    "#### $Q$ Gate"
   ]
  },
  {
   "cell_type": "code",
   "execution_count": 128,
   "metadata": {},
   "outputs": [
    {
     "name": "stdout",
     "output_type": "stream",
     "text": [
      "   ┌──────┐┌───┐┌──────┐┌───┐\n",
      "q: ┤ P(π) ├┤ X ├┤ P(π) ├┤ X ├\n",
      "   └──────┘└───┘└──────┘└───┘\n",
      "     ┌────┐┌────────┐┌───────┐┌──────┐┌────┐\n",
      "q_0: ┤ -I ├┤0       ├┤0      ├┤0     ├┤0   ├\n",
      "     └────┘│        ││       ││      ││    │\n",
      "q_1: ──────┤1       ├┤1      ├┤1     ├┤1   ├\n",
      "           │        ││       ││      ││    │\n",
      "q_2: ──────┤2       ├┤2 A^-1 ├┤2     ├┤2 A ├\n",
      "           │        ││       ││      ││    │\n",
      "q_3: ──────┤3       ├┤3      ├┤3     ├┤3   ├\n",
      "           │  S_psi ││       ││  S_0 ││    │\n",
      "q_4: ──────┤4       ├┤4      ├┤4     ├┤4   ├\n",
      "           │        │└───────┘│      │└────┘\n",
      "q_5: ──────┤5       ├─────────┤5     ├──────\n",
      "           │        │         │      │      \n",
      "q_6: ──────┤6       ├─────────┤6     ├──────\n",
      "           │        │         │      │      \n",
      "q_7: ──────┤7       ├─────────┤7     ├──────\n",
      "           └────────┘         └──────┘      \n",
      "2242\n"
     ]
    }
   ],
   "source": [
    "#Q circuit\n",
    "QCircuit = QuantumCircuit(len(set(auxReg+playerReg+countReg+utilReg)))\n",
    "\n",
    "#Phase Gate\n",
    "phaseCircuit = QuantumCircuit(1)\n",
    "phaseCircuit.p(np.pi, 0); phaseCircuit.x(0)\n",
    "phaseCircuit.p(np.pi, 0); phaseCircuit.x(0)\n",
    "phaseGate = phaseCircuit.to_gate(label=\"-I\")\n",
    "print(phaseCircuit.draw())\n",
    "\n",
    "#Main body\n",
    "QCircuit.append(phaseGate, [0])\n",
    "QCircuit.append(SPsiGate, auxReg+playerReg+countReg)\n",
    "QCircuit.append(AInvGate, auxReg+playerReg)\n",
    "QCircuit.append(S0Gate, auxReg+playerReg+countReg)\n",
    "QCircuit.append(AGate, auxReg+playerReg)\n",
    "\n",
    "print(QCircuit.draw())\n",
    "print(QCircuit.decompose(reps=6).depth())\n",
    "\n",
    "QGate = QCircuit.to_gate()"
   ]
  },
  {
   "attachments": {},
   "cell_type": "markdown",
   "metadata": {},
   "source": [
    "#### $Q$ Circuit Powers"
   ]
  },
  {
   "cell_type": "code",
   "execution_count": 129,
   "metadata": {},
   "outputs": [],
   "source": [
    "QGatePowers = []\n",
    "\n",
    "for i in range(amplitudeEstBits):\n",
    "    QGatePowers.append(\n",
    "        QGate.repeat(2**i)\n",
    "    )\n",
    "    QGatePowers[i].label = f\"Q^{2**i}\"\n",
    "    QGatePowers[i] = QGatePowers[i].control()\n"
   ]
  },
  {
   "attachments": {},
   "cell_type": "markdown",
   "metadata": {},
   "source": [
    "## Amplitude Estimation Circuit"
   ]
  },
  {
   "cell_type": "code",
   "execution_count": 130,
   "metadata": {},
   "outputs": [
    {
     "name": "stdout",
     "output_type": "stream",
     "text": [
      "      ┌────┐┌──────┐┌──────┐┌──────┐┌──────┐           \n",
      " q_0: ┤0   ├┤0     ├┤0     ├┤0     ├┤0     ├───────────\n",
      "      │    ││      ││      ││      ││      │           \n",
      " q_1: ┤1   ├┤1     ├┤1     ├┤1     ├┤1     ├───────────\n",
      "      │    ││      ││      ││      ││      │           \n",
      " q_2: ┤2 A ├┤2     ├┤2     ├┤2     ├┤2     ├───────────\n",
      "      │    ││      ││      ││      ││      │           \n",
      " q_3: ┤3   ├┤3     ├┤3     ├┤3     ├┤3     ├───────────\n",
      "      │    ││  Q^1 ││  Q^2 ││  Q^4 ││  Q^8 │           \n",
      " q_4: ┤4   ├┤4     ├┤4     ├┤4     ├┤4     ├───────────\n",
      "      └────┘│      ││      ││      ││      │           \n",
      " q_5: ──────┤5     ├┤5     ├┤5     ├┤5     ├───────────\n",
      "            │      ││      ││      ││      │           \n",
      " q_6: ──────┤6     ├┤6     ├┤6     ├┤6     ├───────────\n",
      "            │      ││      ││      ││      │           \n",
      " q_7: ──────┤7     ├┤7     ├┤7     ├┤7     ├───────────\n",
      "      ┌───┐ └──┬───┘└──┬───┘└──┬───┘└──┬───┘┌─────────┐\n",
      " q_8: ┤ H ├────■───────┼───────┼───────┼────┤0        ├\n",
      "      ├───┤            │       │       │    │         │\n",
      " q_9: ┤ H ├────────────■───────┼───────┼────┤1        ├\n",
      "      ├───┤                    │       │    │  QFT^-1 │\n",
      "q_10: ┤ H ├────────────────────■───────┼────┤2        ├\n",
      "      ├───┤                            │    │         │\n",
      "q_11: ┤ H ├────────────────────────────■────┤3        ├\n",
      "      └───┘                                 └─────────┘\n"
     ]
    }
   ],
   "source": [
    "ampCircuit = QuantumCircuit(len(set(auxReg+playerReg+countReg+utilReg+amplitudeReg)))\n",
    "\n",
    "#Preparing the amplitude approximation register\n",
    "ampCircuit.h(amplitudeReg)\n",
    "\n",
    "#Preparing the other registers\n",
    "ampCircuit.append(AGate, auxReg + playerReg)\n",
    "\n",
    "#Running controlled Q's\n",
    "for i in range(amplitudeEstBits):\n",
    "    ampCircuit.append(QGatePowers[i], [amplitudeReg[i]]+auxReg+playerReg+countReg)\n",
    "\n",
    "#Inverse Fourier transform on the amplitude approx register\n",
    "qftGate = QFT(num_qubits=amplitudeEstBits, inverse=True).to_gate()\n",
    "qftGate.label = \"QFT^-1\"\n",
    "ampCircuit.append(qftGate, amplitudeReg)\n",
    "\n",
    "print(ampCircuit.draw())"
   ]
  },
  {
   "attachments": {},
   "cell_type": "markdown",
   "metadata": {},
   "source": [
    "## Running the Circuit"
   ]
  },
  {
   "cell_type": "code",
   "execution_count": 131,
   "metadata": {},
   "outputs": [
    {
     "name": "stdout",
     "output_type": "stream",
     "text": [
      "{'000000000000': (0.0195-0j), '000000000001': (0.0217-0j), '000000000010': (0.0097-0j), '000000000011': (0.0008-0j), '000000000100': (0.0031+0j), '000000000101': (0.0116+0j), '000000000110': (0.0116+0j), '000000000111': (0.0031+0j), '000000010000': (0.0039-0j), '000000010001': (0.0145-0j), '000000010010': (0.0145-0j), '000000010011': (0.0039-0j), '000000010100': (0.0008-0j), '000000010101': (0.0097-0j), '000000010110': (0.0217-0j), '000000010111': (0.0195-0j), '000100000000': (0.0237+0.0087j), '000100000001': (0.0265+0.0098j), '000100000010': (0.0118+0.0044j), '000100000011': (0.0009+0.0003j), '000100000100': (0.0049-0.0043j), '000100000101': (0.0183-0.016j), '000100000110': (0.0183-0.016j), '000100000111': (0.0049-0.0043j), '000100010000': (0.0047+0.0017j), '000100010001': (0.0177+0.0065j), '000100010010': (0.0177+0.0065j), '000100010011': (0.0047+0.0017j), '000100010100': (0.0009+0.0003j), '000100010101': (0.0118+0.0044j), '000100010110': (0.0265+0.0098j), '000100010111': (0.0237+0.0087j), '001000000000': (0.1529+0.1317j), '001000000001': (0.1707+0.1471j), '001000000010': (0.0762+0.0657j), '001000000011': (0.006+0.0052j), '001000000100': (0.0594-0.0641j), '001000000101': (0.2227-0.2403j), '001000000110': (0.2227-0.2403j), '001000000111': (0.0594-0.0641j), '001000010000': (0.0304+0.0262j), '001000010001': (0.1141+0.0983j), '001000010010': (0.1141+0.0983j), '001000010011': (0.0304+0.0262j), '001000010100': (0.006+0.0052j), '001000010101': (0.0762+0.0657j), '001000010110': (0.1707+0.1471j), '001000010111': (0.1529+0.1317j), '001100000000': (-0.0095-0.0177j), '001100000001': (-0.0106-0.0198j), '001100000010': (-0.0048-0.0088j), '001100000011': (-0.0004-0.0007j), '001100000100': (-0.0092+0.0086j), '001100000101': (-0.0343+0.0324j), '001100000110': (-0.0343+0.0324j), '001100000111': (-0.0092+0.0086j), '001100010000': (-0.0019-0.0035j), '001100010001': (-0.0071-0.0132j), '001100010010': (-0.0071-0.0132j), '001100010011': (-0.0019-0.0035j), '001100010100': (-0.0004-0.0007j), '001100010101': (-0.0048-0.0088j), '001100010110': (-0.0106-0.0198j), '001100010111': (-0.0095-0.0177j), '010000000000': (-0.0009-0.0083j), '010000000001': (-0.0011-0.0093j), '010000000010': (-0.0005-0.0042j), '010000000011': (-0-0.0003j), '010000000100': (-0.0055+0.0041j), '010000000101': (-0.0208+0.0152j), '010000000110': (-0.0208+0.0152j), '010000000111': (-0.0055+0.0041j), '010000010000': (-0.0002-0.0017j), '010000010001': (-0.0007-0.0062j), '010000010010': (-0.0007-0.0062j), '010000010011': (-0.0002-0.0017j), '010000010100': (-0-0.0003j), '010000010101': (-0.0005-0.0042j), '010000010110': (-0.0011-0.0093j), '010000010111': (-0.0009-0.0083j), '010100000000': (0.0014-0.0049j), '010100000001': (0.0016-0.0055j), '010100000010': (0.0007-0.0025j), '010100000011': (0.0001-0.0002j), '010100000100': (-0.0045+0.0024j), '010100000101': (-0.017+0.009j), '010100000110': (-0.017+0.009j), '010100000111': (-0.0045+0.0024j), '010100010000': (0.0003-0.001j), '010100010001': (0.0011-0.0037j), '010100010010': (0.0011-0.0037j), '010100010011': (0.0003-0.001j), '010100010100': (0.0001-0.0002j), '010100010101': (0.0007-0.0025j), '010100010110': (0.0016-0.0055j), '010100010111': (0.0014-0.0049j), '011000000000': (0.0024-0.0029j), '011000000001': (0.0027-0.0032j), '011000000010': (0.0012-0.0014j), '011000000011': (0.0001-0.0001j), '011000000100': (-0.0041+0.0014j), '011000000101': (-0.0154+0.0053j), '011000000110': (-0.0154+0.0053j), '011000000111': (-0.0041+0.0014j), '011000010000': (0.0005-0.0006j), '011000010001': (0.0018-0.0022j), '011000010010': (0.0018-0.0022j), '011000010011': (0.0005-0.0006j), '011000010100': (0.0001-0.0001j), '011000010101': (0.0012-0.0014j), '011000010110': (0.0027-0.0032j), '011000010111': (0.0024-0.0029j), '011100000000': (0.0029-0.0014j), '011100000001': (0.0032-0.0015j), '011100000010': (0.0014-0.0007j), '011100000011': (0.0001-0.0001j), '011100000100': (-0.0039+0.0007j), '011100000101': (-0.0147+0.0025j), '011100000110': (-0.0147+0.0025j), '011100000111': (-0.0039+0.0007j), '011100010000': (0.0006-0.0003j), '011100010001': (0.0021-0.001j), '011100010010': (0.0021-0.001j), '011100010011': (0.0006-0.0003j), '011100010100': (0.0001-0.0001j), '011100010101': (0.0014-0.0007j), '011100010110': (0.0032-0.0015j), '011100010111': (0.0029-0.0014j), '100000000000': (0.003+0j), '100000000001': (0.0033+0j), '100000000010': (0.0015+0j), '100000000011': (0.0001+0j), '100000000100': (-0.0039+0j), '100000000101': (-0.0145+0j), '100000000110': (-0.0145+0j), '100000000111': (-0.0039+0j), '100000010000': (0.0006+0j), '100000010001': (0.0022+0j), '100000010010': (0.0022+0j), '100000010011': (0.0006+0j), '100000010100': (0.0001+0j), '100000010101': (0.0015+0j), '100000010110': (0.0033+0j), '100000010111': (0.003+0j), '100100000000': (0.0029+0.0014j), '100100000001': (0.0032+0.0015j), '100100000010': (0.0014+0.0007j), '100100000011': (0.0001+0.0001j), '100100000100': (-0.0039-0.0007j), '100100000101': (-0.0147-0.0025j), '100100000110': (-0.0147-0.0025j), '100100000111': (-0.0039-0.0007j), '100100010000': (0.0006+0.0003j), '100100010001': (0.0021+0.001j), '100100010010': (0.0021+0.001j), '100100010011': (0.0006+0.0003j), '100100010100': (0.0001+0.0001j), '100100010101': (0.0014+0.0007j), '100100010110': (0.0032+0.0015j), '100100010111': (0.0029+0.0014j), '101000000000': (0.0024+0.0029j), '101000000001': (0.0027+0.0032j), '101000000010': (0.0012+0.0014j), '101000000011': (0.0001+0.0001j), '101000000100': (-0.0041-0.0014j), '101000000101': (-0.0154-0.0053j), '101000000110': (-0.0154-0.0053j), '101000000111': (-0.0041-0.0014j), '101000010000': (0.0005+0.0006j), '101000010001': (0.0018+0.0022j), '101000010010': (0.0018+0.0022j), '101000010011': (0.0005+0.0006j), '101000010100': (0.0001+0.0001j), '101000010101': (0.0012+0.0014j), '101000010110': (0.0027+0.0032j), '101000010111': (0.0024+0.0029j), '101100000000': (0.0014+0.0049j), '101100000001': (0.0016+0.0055j), '101100000010': (0.0007+0.0025j), '101100000011': (0.0001+0.0002j), '101100000100': (-0.0045-0.0024j), '101100000101': (-0.017-0.009j), '101100000110': (-0.017-0.009j), '101100000111': (-0.0045-0.0024j), '101100010000': (0.0003+0.001j), '101100010001': (0.0011+0.0037j), '101100010010': (0.0011+0.0037j), '101100010011': (0.0003+0.001j), '101100010100': (0.0001+0.0002j), '101100010101': (0.0007+0.0025j), '101100010110': (0.0016+0.0055j), '101100010111': (0.0014+0.0049j), '110000000000': (-0.0009+0.0083j), '110000000001': (-0.0011+0.0093j), '110000000010': (-0.0005+0.0042j), '110000000011': (-0+0.0003j), '110000000100': (-0.0055-0.0041j), '110000000101': (-0.0208-0.0152j), '110000000110': (-0.0208-0.0152j), '110000000111': (-0.0055-0.0041j), '110000010000': (-0.0002+0.0017j), '110000010001': (-0.0007+0.0062j), '110000010010': (-0.0007+0.0062j), '110000010011': (-0.0002+0.0017j), '110000010100': (-0+0.0003j), '110000010101': (-0.0005+0.0042j), '110000010110': (-0.0011+0.0093j), '110000010111': (-0.0009+0.0083j), '110100000000': (-0.0095+0.0177j), '110100000001': (-0.0106+0.0198j), '110100000010': (-0.0048+0.0088j), '110100000011': (-0.0004+0.0007j), '110100000100': (-0.0092-0.0086j), '110100000101': (-0.0343-0.0324j), '110100000110': (-0.0343-0.0324j), '110100000111': (-0.0092-0.0086j), '110100010000': (-0.0019+0.0035j), '110100010001': (-0.0071+0.0132j), '110100010010': (-0.0071+0.0132j), '110100010011': (-0.0019+0.0035j), '110100010100': (-0.0004+0.0007j), '110100010101': (-0.0048+0.0088j), '110100010110': (-0.0106+0.0198j), '110100010111': (-0.0095+0.0177j), '111000000000': (0.1529-0.1317j), '111000000001': (0.1707-0.1471j), '111000000010': (0.0762-0.0657j), '111000000011': (0.006-0.0052j), '111000000100': (0.0594+0.0641j), '111000000101': (0.2227+0.2403j), '111000000110': (0.2227+0.2403j), '111000000111': (0.0594+0.0641j), '111000010000': (0.0304-0.0262j), '111000010001': (0.1141-0.0983j), '111000010010': (0.1141-0.0983j), '111000010011': (0.0304-0.0262j), '111000010100': (0.006-0.0052j), '111000010101': (0.0762-0.0657j), '111000010110': (0.1707-0.1471j), '111000010111': (0.1529-0.1317j), '111100000000': (0.0237-0.0087j), '111100000001': (0.0265-0.0098j), '111100000010': (0.0118-0.0044j), '111100000011': (0.0009-0.0003j), '111100000100': (0.0049+0.0043j), '111100000101': (0.0183+0.016j), '111100000110': (0.0183+0.016j), '111100000111': (0.0049+0.0043j), '111100010000': (0.0047-0.0017j), '111100010001': (0.0177-0.0065j), '111100010010': (0.0177-0.0065j), '111100010011': (0.0047-0.0017j), '111100010100': (0.0009-0.0003j), '111100010101': (0.0118-0.0044j), '111100010110': (0.0265-0.0098j), '111100010111': (0.0237-0.0087j)}\n",
      "{'000000000000': -0.0, '000000000001': -0.0, '000000000010': -0.0, '000000000011': -0.0, '000000000100': 0.0, '000000000101': 0.0, '000000000110': 0.0, '000000000111': 0.0, '000000010000': -0.0, '000000010001': -0.0, '000000010010': -0.0, '000000010011': -0.0, '000000010100': -0.0, '000000010101': -0.0, '000000010110': -0.0, '000000010111': -0.0, '000100000000': 0.1750025318753623, '000100000001': 0.17618254356396723, '000100000010': 0.17751027465147048, '000100000011': 0.1601822430069672, '000100000100': -0.352401979938803, '000100000101': -0.35154553220251267, '000100000110': -0.35154553220251267, '000100000111': -0.352401979938803, '000100010000': 0.1726611917158784, '000100010001': 0.17506457891740682, '000100010010': 0.17506457891740682, '000100010011': 0.1726611917158784, '000100010100': 0.1601822430069672, '000100010101': 0.17751027465147048, '000100010110': 0.17618254356396723, '000100010111': 0.1750025318753623, '001000000000': 0.3480802249605327, '001000000001': 0.34818742488999116, '001000000010': 0.3483108444560153, '001000000011': 0.3495074514299963, '001000000100': -0.40018457562445586, '001000000101': -0.4001645706603485, '001000000110': -0.4001645706603485, '001000000111': -0.40018457562445586, '001000010000': 0.3482133396590914, '001000010001': 0.3481280354566657, '001000010010': 0.3481280354566657, '001000010011': 0.3482133396590914, '001000010100': 0.3495074514299963, '001000010101': 0.3483108444560153, '001000010110': 0.34818742488999116, '001000010111': 0.3480802249605327, '001100000000': -0.8581701387532973, '001100000001': -0.8578969265438104, '001100000010': -0.8598988692516618, '001100000011': -0.8649100931185951, '001100000100': 0.9301953932709317, '001100000101': 0.9292347318329777, '001100000110': 0.9292347318329777, '001100000111': 0.9301953932709317, '001100010000': -0.8593869509435881, '001100010001': -0.8584002305292039, '001100010010': -0.8584002305292039, '001100010011': -0.8593869509435881, '001100010100': -0.8649100931185951, '001100010101': -0.8598988692516618, '001100010110': -0.8578969265438104, '001100010111': -0.8581701387532973, '010000000000': -0.7442451970925414, '010000000001': -0.7474827028664606, '010000000010': -0.7477342073842524, '010000000011': -0.7071067811865476, '010000000100': 0.9491432620475602, '010000000101': 0.9506290344445351, '010000000110': 0.9506290344445351, '010000000111': 0.9491432620475602, '010000010000': -0.7472754671362487, '010000010001': -0.7457179214045707, '010000010010': -0.7457179214045707, '010000010011': -0.7472754671362487, '010000010100': -0.7071067811865476, '010000010101': -0.7477342073842524, '010000010110': -0.7474827028664606, '010000010111': -0.7442451970925414, '010100000000': -0.602195513144453, '010100000001': -0.6002792929836365, '010100000010': -0.6043054171857262, '010100000011': -0.5257311121191336, '010100000100': 0.9701425001453319, '010100000101': 0.9705122143350545, '010100000110': 0.9705122143350545, '010100000111': 0.9701425001453319, '010100010000': -0.5969305296404492, '010100010001': -0.5979254685648697, '010100010010': -0.5979254685648697, '010100010011': -0.5969305296404492, '010100010100': -0.5257311121191336, '010100010101': -0.6043054171857262, '010100010110': -0.6002792929836365, '010100010111': -0.602195513144453, '011000000000': -0.42569489424103624, '011000000001': -0.4213840651888827, '011000000010': -0.41785680953170523, '011000000011': -0.3826834323650898, '011000000100': 0.9864962889104031, '011000000101': 0.9862982718635614, '011000000110': 0.9862982718635614, '011000000111': 0.9864962889104031, '011000010000': -0.42415539624972365, '011000010001': -0.42823020079318164, '011000010010': -0.42823020079318164, '011000010011': -0.42415539624972365, '011000010100': -0.3826834323650898, '011000010101': -0.41785680953170523, '011000010110': -0.4213840651888827, '011000010111': -0.42569489424103624, '011100000000': -0.22298919663900935, '011100000001': -0.21741787419751343, '011100000010': -0.22975292054736118, '011100000011': -0.3826834323650898, '011100000100': 0.9960600401064897, '011100000101': 0.9964549071135379, '011100000110': 0.9964549071135379, '011100000111': 0.9960600401064897, '011100010000': -0.22975292054736118, '011100010001': -0.22038543642453975, '011100010010': -0.22038543642453975, '011100010011': -0.22975292054736118, '011100010100': -0.3826834323650898, '011100010101': -0.22975292054736118, '011100010110': -0.21741787419751343, '011100010111': -0.22298919663900935, '100000000000': 0.0, '100000000001': 0.0, '100000000010': 0.0, '100000000011': 0.0, '100000000100': 1.0, '100000000101': 1.0, '100000000110': 1.0, '100000000111': 1.0, '100000010000': 0.0, '100000010001': 0.0, '100000010010': 0.0, '100000010011': 0.0, '100000010100': 0.0, '100000010101': 0.0, '100000010110': 0.0, '100000010111': 0.0, '100100000000': 0.22298919663900935, '100100000001': 0.21741787419751343, '100100000010': 0.22975292054736118, '100100000011': 0.3826834323650898, '100100000100': -0.9960600401064897, '100100000101': -0.9964549071135379, '100100000110': -0.9964549071135379, '100100000111': -0.9960600401064897, '100100010000': 0.22975292054736118, '100100010001': 0.22038543642453975, '100100010010': 0.22038543642453975, '100100010011': 0.22975292054736118, '100100010100': 0.3826834323650898, '100100010101': 0.22975292054736118, '100100010110': 0.21741787419751343, '100100010111': 0.22298919663900935, '101000000000': 0.42569489424103624, '101000000001': 0.4213840651888827, '101000000010': 0.41785680953170523, '101000000011': 0.3826834323650898, '101000000100': -0.9864962889104031, '101000000101': -0.9862982718635614, '101000000110': -0.9862982718635614, '101000000111': -0.9864962889104031, '101000010000': 0.42415539624972365, '101000010001': 0.42823020079318164, '101000010010': 0.42823020079318164, '101000010011': 0.42415539624972365, '101000010100': 0.3826834323650898, '101000010101': 0.41785680953170523, '101000010110': 0.4213840651888827, '101000010111': 0.42569489424103624, '101100000000': 0.602195513144453, '101100000001': 0.6002792929836365, '101100000010': 0.6043054171857262, '101100000011': 0.5257311121191336, '101100000100': -0.9701425001453319, '101100000101': -0.9705122143350545, '101100000110': -0.9705122143350545, '101100000111': -0.9701425001453319, '101100010000': 0.5969305296404492, '101100010001': 0.5979254685648697, '101100010010': 0.5979254685648697, '101100010011': 0.5969305296404492, '101100010100': 0.5257311121191336, '101100010101': 0.6043054171857262, '101100010110': 0.6002792929836365, '101100010111': 0.602195513144453, '110000000000': 0.7442451970925414, '110000000001': 0.7474827028664606, '110000000010': 0.7477342073842524, '110000000011': 0.7071067811865476, '110000000100': -0.9491432620475602, '110000000101': -0.9506290344445351, '110000000110': -0.9506290344445351, '110000000111': -0.9491432620475602, '110000010000': 0.7472754671362487, '110000010001': 0.7457179214045707, '110000010010': 0.7457179214045707, '110000010011': 0.7472754671362487, '110000010100': 0.7071067811865476, '110000010101': 0.7477342073842524, '110000010110': 0.7474827028664606, '110000010111': 0.7442451970925414, '110100000000': 0.8581701387532973, '110100000001': 0.8578969265438104, '110100000010': 0.8598988692516618, '110100000011': 0.8649100931185951, '110100000100': -0.9301953932709317, '110100000101': -0.9292347318329777, '110100000110': -0.9292347318329777, '110100000111': -0.9301953932709317, '110100010000': 0.8593869509435881, '110100010001': 0.8584002305292039, '110100010010': 0.8584002305292039, '110100010011': 0.8593869509435881, '110100010100': 0.8649100931185951, '110100010101': 0.8598988692516618, '110100010110': 0.8578969265438104, '110100010111': 0.8581701387532973, '111000000000': -0.3480802249605327, '111000000001': -0.34818742488999116, '111000000010': -0.3483108444560153, '111000000011': -0.3495074514299963, '111000000100': 0.40018457562445586, '111000000101': 0.4001645706603485, '111000000110': 0.4001645706603485, '111000000111': 0.40018457562445586, '111000010000': -0.3482133396590914, '111000010001': -0.3481280354566657, '111000010010': -0.3481280354566657, '111000010011': -0.3482133396590914, '111000010100': -0.3495074514299963, '111000010101': -0.3483108444560153, '111000010110': -0.34818742488999116, '111000010111': -0.3480802249605327, '111100000000': -0.1750025318753623, '111100000001': -0.17618254356396723, '111100000010': -0.17751027465147048, '111100000011': -0.1601822430069672, '111100000100': 0.352401979938803, '111100000101': 0.35154553220251267, '111100000110': 0.35154553220251267, '111100000111': 0.352401979938803, '111100010000': -0.1726611917158784, '111100010001': -0.17506457891740682, '111100010010': -0.17506457891740682, '111100010011': -0.1726611917158784, '111100010100': -0.1601822430069672, '111100010101': -0.17751027465147048, '111100010110': -0.17618254356396723, '111100010111': -0.1750025318753623}\n"
     ]
    },
    {
     "data": {
      "image/png": "[encoded data removed]",
      "text/plain": [
       "<Figure size 432x288 with 1 Axes>"
      ]
     },
     "metadata": {
      "needs_background": "light"
     },
     "output_type": "display_data"
    },
    {
     "name": "stdout",
     "output_type": "stream",
     "text": [
      "[0.002631   0.00521816 0.48191004 0.00726886 0.00185596 0.00095514\n",
      " 0.00065566 0.00053846 0.00050562 0.00053846 0.00065566 0.00095514\n",
      " 0.00185596 0.00726886 0.48191004 0.00521816]\n"
     ]
    }
   ],
   "source": [
    "probs = assessCircuit(ampCircuit, amplitudeReg)\n"
   ]
  },
  {
   "attachments": {},
   "cell_type": "markdown",
   "metadata": {},
   "source": [
    "#### Post-processing Result "
   ]
  },
  {
   "cell_type": "code",
   "execution_count": 132,
   "metadata": {},
   "outputs": [
    {
     "name": "stdout",
     "output_type": "stream",
     "text": [
      "[0.         0.03806023 0.14644661 0.30865828 0.5        0.69134172\n",
      " 0.85355339 0.96193977 1.         0.96193977 0.85355339 0.69134172\n",
      " 0.5        0.30865828 0.14644661 0.03806023]\n",
      "0.15187002933738727\n"
     ]
    }
   ],
   "source": [
    "output = np.sin(\n",
    "    (np.pi/2**amplitudeEstBits) * np.arange(2**amplitudeEstBits)\n",
    ")**2\n",
    "print(output)\n",
    "\n",
    "estimatedOutput = np.dot(probs, output)\n",
    "print(estimatedOutput)"
   ]
  }
 ],
 "metadata": {
  "kernelspec": {
   "display_name": "venvThesis",
   "language": "python",
   "name": "python3"
  },
  "language_info": {
   "codemirror_mode": {
    "name": "ipython",
    "version": 3
   },
   "file_extension": ".py",
   "mimetype": "text/x-python",
   "name": "python",
   "nbconvert_exporter": "python",
   "pygments_lexer": "ipython3",
   "version": "3.9.2"
  },
  "orig_nbformat": 4
 },
 "nbformat": 4,
 "nbformat_minor": 2
}
