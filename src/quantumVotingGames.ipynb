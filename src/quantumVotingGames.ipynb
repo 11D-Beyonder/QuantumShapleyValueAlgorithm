{
 "cells": [
  {
   "attachments": {},
   "cell_type": "markdown",
   "metadata": {},
   "source": [
    "# Random Voting Games & Quantum Shapley Values\n",
    "This notebook generates random voting games and uses a quantum algorithm to estimate the Shapley value of each player. \n",
    "It then performs some basic data analysis on the predictions."
   ]
  },
  {
   "attachments": {},
   "cell_type": "markdown",
   "metadata": {},
   "source": [
    "### Import Libraries"
   ]
  },
  {
   "cell_type": "code",
   "execution_count": null,
   "metadata": {},
   "outputs": [],
   "source": [
    "import quantumBasicVotingGame as vg\n",
    "from quantumShapEstimation import QuantumShapleyWrapper as qsw\n",
    "\n",
    "import numpy as np\n",
    "import matplotlib.pyplot as plt\n",
    "import pickle\n",
    "from tqdm.auto import tqdm"
   ]
  },
  {
   "attachments": {},
   "cell_type": "markdown",
   "metadata": {},
   "source": [
    "### Define Variables"
   ]
  },
  {
   "cell_type": "code",
   "execution_count": null,
   "metadata": {},
   "outputs": [],
   "source": [
    "numTrials = 128\n",
    "\n",
    "minEll = 1\n",
    "maxEll = 11\n",
    "\n",
    "#Defining the different conditions\n",
    "# numPlayersCond    = [4,8,12]\n",
    "numPlayersCond    = [2,4,8]\n",
    "thresholdBitCond  = [3,4,5]\n",
    "roughVarianceCond = [1,1,2]\n"
   ]
  },
  {
   "attachments": {},
   "cell_type": "markdown",
   "metadata": {},
   "source": [
    "### Run Simulations"
   ]
  },
  {
   "cell_type": "code",
   "execution_count": null,
   "metadata": {},
   "outputs": [],
   "source": [
    "simulations = {}\n",
    "\n",
    "for trialNum in tqdm(range(numTrials), desc=\"Current Trial\"):\n",
    "    for ell in tqdm(range(1,maxEll), desc=\"Current Ell\"):\n",
    "        for n, thresholdBits, roughVariance in zip(\n",
    "            numPlayersCond, thresholdBitCond, roughVarianceCond\n",
    "        ):\n",
    "            trial = (n,ell,trialNum)\n",
    "\n",
    "\n",
    "            #New random game\n",
    "            threshold = 2**(thresholdBits-1)\n",
    "\n",
    "            playerVals = vg.randomVotingGame(\n",
    "                numPlayers=n,\n",
    "                thresholdBits=thresholdBits,\n",
    "                roughVariance=roughVariance\n",
    "            )\n",
    "\n",
    "            #quantum Shapley\n",
    "            qshaps = vg.quantumVotingShap(\n",
    "                threshold=threshold,\n",
    "                playerVals=playerVals,\n",
    "                ell=ell\n",
    "            )\n",
    "\n",
    "            #classical Shapley\n",
    "            cshaps = vg.classicalVotingShap(\n",
    "                threshold=threshold,\n",
    "                playerVals=playerVals,\n",
    "            )\n",
    "\n",
    "            #Store outcome\n",
    "            simulations[trial] = (qshaps, cshaps)\n",
    "\n"
   ]
  },
  {
   "attachments": {},
   "cell_type": "markdown",
   "metadata": {},
   "source": [
    "### Save Results"
   ]
  },
  {
   "cell_type": "code",
   "execution_count": null,
   "metadata": {},
   "outputs": [],
   "source": [
    "with open('shapleyVoteResults.pkl', 'wb') as f:\n",
    "    pickle.dump(simulations, f)"
   ]
  },
  {
   "cell_type": "code",
   "execution_count": null,
   "metadata": {},
   "outputs": [],
   "source": [
    "# with open('shapleyVoteResults_Apr30_11-55PM.pkl', 'rb') as fp:\n",
    "#     simulations = pickle.load(fp)"
   ]
  },
  {
   "attachments": {},
   "cell_type": "markdown",
   "metadata": {},
   "source": [
    "### Analyze Trials "
   ]
  },
  {
   "cell_type": "code",
   "execution_count": null,
   "metadata": {},
   "outputs": [],
   "source": [
    "def meanAbsError(qshaps, cshaps):\n",
    "    err = 0\n",
    "    for qshap, cshap in zip(qshaps, cshaps):\n",
    "        err += abs(qshap-cshap)\n",
    "    return err"
   ]
  },
  {
   "cell_type": "code",
   "execution_count": null,
   "metadata": {},
   "outputs": [],
   "source": [
    "plt.rcParams['figure.figsize'] = [12, 5]\n",
    "fig, ax = plt.subplots(1, len(numPlayersCond))\n",
    "\n",
    "#We're looking to find reciprocal mean abs error per trial\n",
    "#For each trial with n players\n",
    "for i, n in enumerate(numPlayersCond):\n",
    "    #Orient data\n",
    "    resultsX = []\n",
    "    resultsY = []\n",
    "    resultErr = []\n",
    "    for ell in range(2, maxEll):\n",
    "        trialOutcomes = []\n",
    "\n",
    "        for trialNum in range(numTrials):\n",
    "            qshaps, cshaps = simulations[(n,ell,trialNum)]\n",
    "            trialOutcomes.append(\n",
    "                meanAbsError(qshaps, cshaps)\n",
    "            )\n",
    "        \n",
    "        trialOutcomes = np.array(trialOutcomes)\n",
    "        resultsX.append(ell)\n",
    "        resultsY.append(trialOutcomes.mean())\n",
    "        resultErr.append(trialOutcomes.std())\n",
    "\n",
    "        # resultsX += len(trialOutcomes) * [ell]\n",
    "        # resultsY += trialOutcomes\n",
    "    \n",
    "    ax[i].set_title(f\"{n} Players\")#, Threshold: {2**thresholdBitCond[i]}\")\n",
    "    ax[i].bar(\n",
    "        np.array(resultsX), \n",
    "        1/np.array(resultsY),\n",
    "        # yerr=resultErr,\n",
    "        align='center',\n",
    "        alpha=0.5,\n",
    "        ecolor='black',\n",
    "        capsize=10,\n",
    "    )\n",
    "    ax[i].set_xlabel(r\"$\\ell$\")\n",
    "    ax[i].set_ylabel(r\"Reciprocal Mean Absolute Error\")\n",
    "    print(f\"{n=}:\", 1/np.array(resultsY))\n",
    "\n",
    "plt.tight_layout()\n",
    "plt.show()"
   ]
  }
 ],
 "metadata": {
  "kernelspec": {
   "display_name": "venvThesis",
   "language": "python",
   "name": "python3"
  },
  "language_info": {
   "codemirror_mode": {
    "name": "ipython",
    "version": 3
   },
   "file_extension": ".py",
   "mimetype": "text/x-python",
   "name": "python",
   "nbconvert_exporter": "python",
   "pygments_lexer": "ipython3",
   "version": "3.9.2"
  },
  "orig_nbformat": 4
 },
 "nbformat": 4,
 "nbformat_minor": 2
}
